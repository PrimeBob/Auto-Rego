{
 "cells": [
  {
   "cell_type": "code",
   "execution_count": 80,
   "metadata": {},
   "outputs": [],
   "source": [
    "from selenium import webdriver\n",
    "import time\n",
    "import os\n",
    "from gsheets import Sheets\n",
    "import pandas as pd\n",
    "import operator\n",
    "import shutil\n",
    "from shutil import copyfile\n",
    "import os.path\n",
    "import csv\n",
    "from gspread_pandas import Spread, Client \n",
    "from oauth2client.service_account import ServiceAccountCredentials\n",
    "import pprint\n",
    "import gspread\n",
    "import math\n",
    "from selenium.webdriver.chrome.options import Options\n",
    "import getpass\n",
    "import re\n",
    "import goslate\n",
    "from random import randint\n",
    "from selenium import webdriver\n",
    "from selenium.webdriver.support.ui import WebDriverWait\n",
    "from selenium.webdriver.common.by import By\n",
    "from selenium.webdriver.support import expected_conditions as EC\n",
    "from selenium.common.exceptions import TimeoutException\n",
    "from random import randint\n",
    "import random"
   ]
  },
  {
   "cell_type": "code",
   "execution_count": 81,
   "metadata": {},
   "outputs": [],
   "source": [
    "##removing the annoying tab that toggles and says something like: chrome is monitoring automated something something \n",
    "options = Options()\n",
    "options.add_argument(\"start-maximized\")\n",
    "options.add_experimental_option(\"excludeSwitches\", [\"enable-automation\"])\n",
    "options.add_experimental_option('useAutomationExtension', False)"
   ]
  },
  {
   "cell_type": "code",
   "execution_count": 82,
   "metadata": {},
   "outputs": [
    {
     "data": {
      "text/plain": [
       "'Fujitsu rego page'"
      ]
     },
     "execution_count": 82,
     "metadata": {},
     "output_type": "execute_result"
    }
   ],
   "source": [
    "os.chdir('/Users/'+getpass.getuser()+'/Desktop/auto-rego')\n",
    "f=pd.read_csv('input.csv').event[0]\n",
    "f"
   ]
  },
  {
   "cell_type": "code",
   "execution_count": 83,
   "metadata": {},
   "outputs": [],
   "source": [
    "#reading credientials \n",
    "scope = ['https://spreadsheets.google.com/feeds','https://www.googleapis.com/auth/drive']\n",
    "\n",
    "#wd for authentiction file\n",
    "os.chdir('/Users/'+getpass.getuser()+'/Desktop/auto-rego')\n",
    "creds = ServiceAccountCredentials.from_json_keyfile_name('linkupdater-631ef6e77556.json', scope)"
   ]
  },
  {
   "cell_type": "code",
   "execution_count": 84,
   "metadata": {},
   "outputs": [],
   "source": [
    "#getting permission \n",
    "client = gspread.authorize(creds)"
   ]
  },
  {
   "cell_type": "code",
   "execution_count": 85,
   "metadata": {},
   "outputs": [],
   "source": [
    "statedictionary=['Select...', 'ACT', 'NSW', 'NT', 'NZ', 'QLD', 'SA', 'VIC', 'WA', 'TAS']\n",
    "\n",
    "industrydictionary=['Select...',\n",
    " 'Commercial Sector',\n",
    " 'Defence',\n",
    " 'Health',\n",
    " 'Public Safety',\n",
    " 'Public Sector',\n",
    " 'Retail']\n",
    "\n",
    "iamdictionary=['Select...',\n",
    " 'Customer',\n",
    " 'Customer (Public Sector)',\n",
    " 'Channel-Partner/Distributor',\n",
    " 'Technology Partner',\n",
    " 'Other Partners',\n",
    " 'Event Service',\n",
    " 'Press/Blogger',\n",
    " 'Analyst',\n",
    " 'Fujitsu Employee',\n",
    " 'Prospect/Interested Party',\n",
    " 'Supplier',\n",
    " 'University Student',\n",
    " 'Other']\n",
    "\n",
    "#the below \n",
    "#for i in range(0,10):\n",
    "#    print(web.find_element_by_xpath('//*[@id=\"zOPprogressiveprofilingsprov\"]/option['+str(i+1)+']').text)"
   ]
  },
  {
   "cell_type": "code",
   "execution_count": 86,
   "metadata": {},
   "outputs": [],
   "source": [
    "web = webdriver.Chrome(options=options, executable_path='/Users/'+getpass.getuser()+'/Desktop/auto-rego/chromedriver')\n",
    "\n",
    "web.get(\"https://marketing-oceania.global.fujitsu.com/activatenow21-reg?utm_source=Third_Party&utm_medium=Social&utm_campaign=ActivateNow_Oceania&utm_content=Innovatus\")       "
   ]
  },
  {
   "cell_type": "code",
   "execution_count": 87,
   "metadata": {},
   "outputs": [
    {
     "data": {
      "text/html": [
       "<div>\n",
       "<style scoped>\n",
       "    .dataframe tbody tr th:only-of-type {\n",
       "        vertical-align: middle;\n",
       "    }\n",
       "\n",
       "    .dataframe tbody tr th {\n",
       "        vertical-align: top;\n",
       "    }\n",
       "\n",
       "    .dataframe thead th {\n",
       "        text-align: right;\n",
       "    }\n",
       "</style>\n",
       "<table border=\"1\" class=\"dataframe\">\n",
       "  <thead>\n",
       "    <tr style=\"text-align: right;\">\n",
       "      <th></th>\n",
       "      <th>First</th>\n",
       "      <th>Last</th>\n",
       "      <th>Email</th>\n",
       "      <th>Company</th>\n",
       "      <th>Title</th>\n",
       "      <th>State</th>\n",
       "      <th>Industry</th>\n",
       "      <th>Attendeetype</th>\n",
       "      <th>Mobile</th>\n",
       "      <th>Registered</th>\n",
       "    </tr>\n",
       "  </thead>\n",
       "  <tbody>\n",
       "    <tr>\n",
       "      <th>0</th>\n",
       "      <td>Amy</td>\n",
       "      <td>Lai</td>\n",
       "      <td>alai@hesta.com.au</td>\n",
       "      <td>Hesta</td>\n",
       "      <td>Experience Design Lead</td>\n",
       "      <td>VIC</td>\n",
       "      <td>Commercial Sector</td>\n",
       "      <td>Other</td>\n",
       "      <td>61 3 8662 2573</td>\n",
       "      <td>need1</td>\n",
       "    </tr>\n",
       "  </tbody>\n",
       "</table>\n",
       "</div>"
      ],
      "text/plain": [
       "  First Last              Email Company                   Title State  \\\n",
       "0   Amy  Lai  alai@hesta.com.au   Hesta  Experience Design Lead   VIC   \n",
       "\n",
       "            Industry Attendeetype          Mobile Registered  \n",
       "0  Commercial Sector        Other  61 3 8662 2573      need1  "
      ]
     },
     "execution_count": 87,
     "metadata": {},
     "output_type": "execute_result"
    }
   ],
   "source": [
    "#opening production sheet\n",
    "sheet= client.open(f).worksheet(\"Registration sheet\")\n",
    "\n",
    "df = pd.DataFrame(sheet.get_all_records())\n",
    "harvestfield=df[df.Registered == 'need1'].reset_index(drop=True)\n",
    "len(harvestfield)\n",
    "harvestfield"
   ]
  },
  {
   "cell_type": "code",
   "execution_count": 88,
   "metadata": {
    "scrolled": false
   },
   "outputs": [
    {
     "name": "stdout",
     "output_type": "stream",
     "text": [
      "0 start check\n"
     ]
    }
   ],
   "source": [
    "##############################\n",
    "#email column on google sheets\n",
    "##############################\n",
    "emailloc=2\n",
    "statusloc=10\n",
    "\n",
    "##the below code fills in the registration page and submits it\n",
    "for i in range(len(harvestfield.Email)):        \n",
    "    print(str(i)+\" start check\")\n",
    "    \n",
    "    try:\n",
    "        web.get(\"https://marketing-oceania.global.fujitsu.com/activatenow21-reg?utm_source=Third_Party&utm_medium=Social&utm_campaign=ActivateNow_Oceania&utm_content=Innovatus\")       \n",
    "        \n",
    "        #first\n",
    "        first=harvestfield.First[i]\n",
    "        firstslot=web.find_element_by_xpath('//*[@id=\"FirstName\"]')\n",
    "        time.sleep(random.uniform(0,1))\n",
    "        firstslot.send_keys(first)\n",
    "        time.sleep(random.uniform(0,1))\n",
    "\n",
    "        #last\n",
    "        last=harvestfield.Last[i]\n",
    "        lastslot=web.find_element_by_xpath('//*[@id=\"LastName\"]')\n",
    "        time.sleep(random.uniform(0,1))\n",
    "        lastslot.send_keys(last)\n",
    "        time.sleep(random.uniform(0,1))\n",
    "\n",
    "        #email\n",
    "        email=harvestfield.Email[i]\n",
    "        emailslot=web.find_element_by_xpath('//*[@id=\"Email\"]')\n",
    "        time.sleep(random.uniform(0,1))\n",
    "        emailslot.send_keys(email)\n",
    "        time.sleep(random.uniform(0,1))\n",
    "\n",
    "        #company\n",
    "        organisation=harvestfield.Company[i]\n",
    "        organisationslot=web.find_element_by_xpath('//*[@id=\"Company\"]')\n",
    "        time.sleep(random.uniform(0,1))\n",
    "        organisationslot.send_keys(organisation)\n",
    "        time.sleep(random.uniform(0,1))\n",
    "\n",
    "        #title\n",
    "        title=harvestfield.Title[i]\n",
    "        titleslot=web.find_element_by_xpath('//*[@id=\"Title\"]')\n",
    "        time.sleep(random.uniform(0,1))\n",
    "        titleslot.send_keys(title)\n",
    "        time.sleep(random.uniform(0,1))\n",
    "\n",
    "        #state\n",
    "        state=int(statedictionary.index(harvestfield.State[i]))        \n",
    "        statebutton=web.find_element_by_xpath('//*[@id=\"State_Province__c\"]/option['+str(state+1)+']')                                                                                                            \n",
    "        time.sleep(random.uniform(0,1))\n",
    "        statebutton.click()              \n",
    "        time.sleep(random.uniform(0,1))\n",
    "\n",
    "        #industry\n",
    "        industry=int(industrydictionary.index(harvestfield.Industry[i]))        \n",
    "        industrybutton=web.find_element_by_xpath('//*[@id=\"Industry_Group__c\"]/option['+str(industry+1)+']')                                                                                                            \n",
    "        time.sleep(random.uniform(0,1))\n",
    "        industrybutton.click()              \n",
    "        time.sleep(random.uniform(0,1))\n",
    "\n",
    "        #iam\n",
    "        iam=int(iamdictionary.index(harvestfield.Attendeetype[i]))        \n",
    "        iambutton=web.find_element_by_xpath('//*[@id=\"LeadRole\"]/option['+str(iam+1)+']')                                                                                                            \n",
    "        time.sleep(random.uniform(0,1))\n",
    "        iambutton.click()              \n",
    "        time.sleep(random.uniform(0,1))\n",
    "\n",
    "        #number\n",
    "        contactnumber=re.sub(\"[^0-9]\", \"\",str(harvestfield.Mobile[i]))\n",
    "        contactnumberslot=web.find_element_by_xpath('//*[@id=\"MobilePhone\"]')\n",
    "        time.sleep(random.uniform(0,1))\n",
    "        contactnumberslot.send_keys(str(contactnumber))\n",
    "        time.sleep(random.uniform(0,1))\n",
    "\n",
    "        #sub button\n",
    "        time.sleep(random.uniform(0,1))\n",
    "        subbutton=web.find_element_by_xpath('//*[@id=\"programField1\"]')\n",
    "        web.execute_script(\"arguments[0].click();\", subbutton)\n",
    "\n",
    "        #sub button2\n",
    "        time.sleep(random.uniform(0,1))\n",
    "        subbutton2=web.find_element_by_xpath('//*[@id=\"programField2\"]')\n",
    "        web.execute_script(\"arguments[0].click();\", subbutton2)\n",
    "\n",
    "        #sub button3\n",
    "        time.sleep(random.uniform(0,1))\n",
    "        subbutton3=web.find_element_by_xpath('//*[@id=\"mktoForm_705\"]/div[14]/span/button')\n",
    "        web.execute_script(\"arguments[0].click();\", subbutton3)\n",
    "                \n",
    "        time.sleep(random.uniform(4,7))                \n",
    "    except:\n",
    "        #problem case (when country input has a problem)\n",
    "        sheet.update_cell(int(df[df.iloc[:,emailloc]==harvestfield.Email[i]].index.to_numpy())+2,statusloc,\"problem\")\n",
    "        \n",
    "        time.sleep(random.uniform(5,7))\n",
    "        continue\n",
    "\n",
    "    #success check    \n",
    "    try:\n",
    "        web.find_element_by_xpath('//*[@id=\"bodyId\"]/div[4]/div[1]/div/div/div/h2') \n",
    "        #updating pm sheet        \n",
    "        sheet.update_cell(int(df[df.iloc[:,emailloc]==harvestfield.Email[i]].index.to_numpy())+2,statusloc,\"yes - regoed\")        \n",
    "        time.sleep(random.uniform(5,7))\n",
    "        continue \n",
    "               \n",
    "    except:    \n",
    "        print(\"\")\n",
    "        #success check    \n",
    "    try:    \n",
    "        web.find_element_by_xpath('//*[@id=\"sfid-3116053242\"]/a')                          \n",
    "        #updating pm sheet        \n",
    "        sheet.update_cell(int(df[df.iloc[:,emailloc]==harvestfield.Email[i]].index.to_numpy())+2,statusloc,\"yes - regoed\")        \n",
    "        time.sleep(random.uniform(5,7))\n",
    "        continue \n",
    "                        \n",
    "    except:\n",
    "        sheet.update_cell(int(df[df.iloc[:,emailloc]==harvestfield.Email[i]].index.to_numpy())+2,statusloc,\"problem\")\n",
    "        time.sleep(random.uniform(5,7))\n",
    "        continue   "
   ]
  },
  {
   "cell_type": "code",
   "execution_count": 89,
   "metadata": {},
   "outputs": [],
   "source": [
    "web.close()"
   ]
  },
  {
   "cell_type": "code",
   "execution_count": null,
   "metadata": {},
   "outputs": [],
   "source": []
  },
  {
   "cell_type": "code",
   "execution_count": null,
   "metadata": {},
   "outputs": [],
   "source": []
  },
  {
   "cell_type": "code",
   "execution_count": null,
   "metadata": {},
   "outputs": [],
   "source": []
  },
  {
   "cell_type": "code",
   "execution_count": null,
   "metadata": {},
   "outputs": [],
   "source": []
  }
 ],
 "metadata": {
  "kernelspec": {
   "display_name": "Python 3",
   "language": "python",
   "name": "python3"
  },
  "language_info": {
   "codemirror_mode": {
    "name": "ipython",
    "version": 3
   },
   "file_extension": ".py",
   "mimetype": "text/x-python",
   "name": "python",
   "nbconvert_exporter": "python",
   "pygments_lexer": "ipython3",
   "version": "3.8.8"
  }
 },
 "nbformat": 4,
 "nbformat_minor": 4
}
